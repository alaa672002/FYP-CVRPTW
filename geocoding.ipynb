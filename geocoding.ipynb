{
  "nbformat": 4,
  "nbformat_minor": 0,
  "metadata": {
    "colab": {
      "provenance": [],
      "authorship_tag": "ABX9TyNhM/e68RL69C79XOPtjgG+",
      "include_colab_link": true
    },
    "kernelspec": {
      "name": "python3",
      "display_name": "Python 3"
    },
    "language_info": {
      "name": "python"
    }
  },
  "cells": [
    {
      "cell_type": "markdown",
      "metadata": {
        "id": "view-in-github",
        "colab_type": "text"
      },
      "source": [
        "<a href=\"https://colab.research.google.com/github/alaa672002/FYP-CVRPTW/blob/main/geocoding.ipynb\" target=\"_parent\"><img src=\"https://colab.research.google.com/assets/colab-badge.svg\" alt=\"Open In Colab\"/></a>"
      ]
    },
    {
      "cell_type": "code",
      "source": [
        "import pandas as pd\n",
        "import requests\n",
        "import time\n",
        "from google.colab import drive\n",
        "\n",
        "def convert_postcodes_to_coordinates(input_file, output_file):\n",
        "    # Mount Google Drive\n",
        "    drive.mount('/content/drive', force_remount=True)\n",
        "\n",
        "    # Define input file path\n",
        "    input_path = '/content/drive/My Drive/VRP/Orders.csv'\n",
        "\n",
        "    # Read the input CSV file\n",
        "    data = pd.read_csv(input_path)\n",
        "\n",
        "    # Initialize empty lists to store coordinates\n",
        "    latitudes = []\n",
        "    longitudes = []\n",
        "\n",
        "    # Define Google Maps Geocoding API endpoint and your API key\n",
        "    api_endpoint = 'https://maps.googleapis.com/maps/api/geocode/json'\n",
        "    api_key =   # Replace 'YOUR_API_KEY' with your actual API key\n",
        "\n",
        "    # Iterate through postcodes and convert them to coordinates\n",
        "    for location in data['location']:\n",
        "        try:\n",
        "            # Send request to Google Maps Geocoding API\n",
        "            response = requests.get(api_endpoint, params={'address': location, 'key': api_key})\n",
        "            response_json = response.json()\n",
        "\n",
        "            # Parse response and extract coordinates\n",
        "            if response_json['status'] == 'OK':\n",
        "                location = response_json['results'][0]['geometry']['location']\n",
        "                latitudes.append(location['lat'])\n",
        "                longitudes.append(location['lng'])\n",
        "            else:\n",
        "                latitudes.append(None)\n",
        "                longitudes.append(None)\n",
        "        except Exception as e:\n",
        "            print(f\"Error occurred for postcode {location}: {e}\")\n",
        "            latitudes.append(None)\n",
        "            longitudes.append(None)\n",
        "\n",
        "        # Add a small delay to avoid overloading the API\n",
        "        time.sleep(1)\n",
        "\n",
        "    # Add coordinates to the dataframe\n",
        "    data['latitude'] = latitudes\n",
        "    data['longitude'] = longitudes\n",
        "\n",
        "    # Save the dataframe to the same CSV file\n",
        "    data.to_csv(input_path, index=False)\n",
        "\n",
        "# Define input and output file names\n",
        "input_file = 'input_path'\n",
        "output_file = 'input_path'  # Save to the same file\n",
        "\n",
        "# Convert postcodes to coordinates and save to the same file\n",
        "convert_postcodes_to_coordinates(input_file, output_file)\n",
        "\n",
        "print(\"Coordinates have been added to the data file in Google Drive\")\n"
      ],
      "metadata": {
        "colab": {
          "base_uri": "https://localhost:8080/"
        },
        "id": "9bgkvIqmxP4x",
        "outputId": "b66f76d2-0711-4022-e2ab-f6cc15ed58aa"
      },
      "execution_count": null,
      "outputs": [
        {
          "output_type": "stream",
          "name": "stdout",
          "text": [
            "Mounted at /content/drive\n",
            "Coordinates have been added to the data file in Google Drive\n"
          ]
        }
      ]
    }
  ]
}